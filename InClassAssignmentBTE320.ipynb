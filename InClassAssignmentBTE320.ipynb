{
  "nbformat": 4,
  "nbformat_minor": 0,
  "metadata": {
    "colab": {
      "provenance": []
    },
    "kernelspec": {
      "name": "python3",
      "display_name": "Python 3"
    },
    "language_info": {
      "name": "python"
    }
  },
  "cells": [
    {
      "cell_type": "markdown",
      "source": [
        "Area of a cylinder Height: 10 Radius: 3"
      ],
      "metadata": {
        "id": "OgHKeEqNkR7w"
      }
    },
    {
      "cell_type": "code",
      "execution_count": null,
      "metadata": {
        "colab": {
          "base_uri": "https://localhost:8080/"
        },
        "id": "1yP2fuHLkJSi",
        "outputId": "bf9ea533-0dfc-40a0-ffe4-998b3185754c"
      },
      "outputs": [
        {
          "output_type": "stream",
          "name": "stdout",
          "text": [
            "244.92000000000002\n"
          ]
        }
      ],
      "source": [
        "# Calculate surface area of cylinder\n",
        "pi = 3.14 # Pi\n",
        "r = 3 # Radius\n",
        "h = 10 # Height\n",
        "\n",
        "# Calc area\n",
        "Area = (2 * pi * r ** 2) + (2 * pi * r * h)\n",
        "# Display results on screen\n",
        "print(Area)\n"
      ]
    },
    {
      "cell_type": "markdown",
      "source": [
        "Rock Paper Scissors"
      ],
      "metadata": {
        "id": "8b5_SdQRwgBd"
      }
    },
    {
      "cell_type": "code",
      "source": [
        "# Rock paper scissors\n",
        "p1 = input('Player 1 - Enter R, P, or S : ')\n",
        "p2 = input('Player 2 - Enter R, P, or S : ')\n",
        "\n",
        "if p1 == p2:\n",
        "  print('Draw')\n",
        "\n",
        "elif p1 == 'S' and p2 == 'P':\n",
        "  print('Player 1 Wins')\n",
        "\n",
        "elif p1 == 'S' and p2 == 'R':\n",
        "  print('Player 2 Wins')\n",
        "\n",
        "elif p1 == 'R' and p2 == 'S':\n",
        "  print('Player 1 Wins')\n",
        "\n",
        "elif p1 == 'R' and p2 == 'P':\n",
        "  print('Player 2 Wins')\n",
        "\n"
      ],
      "metadata": {
        "colab": {
          "base_uri": "https://localhost:8080/"
        },
        "id": "ydRqy1metGX9",
        "outputId": "9700e7ff-760a-4c05-b2c9-a733690a870f"
      },
      "execution_count": null,
      "outputs": [
        {
          "output_type": "stream",
          "name": "stdout",
          "text": [
            "Player 1 - Enter R, P, or S : R\n",
            "Player 2 - Enter R, P, or S : S\n",
            "Player 1 Wins\n"
          ]
        }
      ]
    },
    {
      "cell_type": "markdown",
      "source": [
        "Basic Calculator"
      ],
      "metadata": {
        "id": "i79EBU_C5EzE"
      }
    },
    {
      "cell_type": "code",
      "source": [
        "n1 = input('Enter a Number : ')\n",
        "s = input('Enter a Numerical Symbol (+,-,/,*,**) : ')\n",
        "n2 = input('Enter a Second Number : ')\n",
        "\n",
        "if s == '+':\n",
        "  print(float(n1)+float(n2))\n",
        "\n",
        "elif s == '-':\n",
        "  print(float(n1)-float(n2))\n",
        "\n",
        "elif s == '/':\n",
        "  print(float(n1)/float(n2))\n",
        "\n",
        "elif s == '*':\n",
        "  print(float(n1)*float(n2))\n",
        "\n",
        "elif s == '**':\n",
        "  print(float(n1)**float(n2))"
      ],
      "metadata": {
        "colab": {
          "base_uri": "https://localhost:8080/"
        },
        "id": "AG9Jh1_l5Ji6",
        "outputId": "4907d71c-8a13-43f2-867f-9e87519902d1"
      },
      "execution_count": null,
      "outputs": [
        {
          "output_type": "stream",
          "name": "stdout",
          "text": [
            "Enter a Number : 4\n",
            "Enter a Numerical Symbol (+,-,/,*,**) : **\n",
            "Enter a Second Number : 3\n",
            "64.0\n"
          ]
        }
      ]
    },
    {
      "cell_type": "markdown",
      "source": [
        "Rock Paper Scissors Updated version\n"
      ],
      "metadata": {
        "id": "VxcuvT2QyjHW"
      }
    },
    {
      "cell_type": "code",
      "source": [
        "player_choice = input('Would You Like to Play Rock, Paper, Scissors? Y or N?: ')\n",
        "\n",
        "while player_choice == 'Y':\n",
        "\n",
        "  p1 = input('Player 1 - Enter Rock, Paper, or Scissors : ')\n",
        "  p2 = input('Player 2 - Enter Rock, Paper, or Scissors : ')\n",
        "\n",
        "  if p1 == p2:\n",
        "    print('Draw')\n",
        "\n",
        "  elif (\n",
        "      (p1 == 'Rock' and p2 == 'Scissors') or\n",
        "      (p1 == 'Scissors' and p2 == 'Paper') or\n",
        "        (p1 == 'Scissors' and p2 == 'Paper')\n",
        "    ):\n",
        "    print('Player 1 Wins')\n",
        "\n",
        "  else:\n",
        "    print('Player 2 Wins')\n",
        "\n",
        "  player_choice = input('Would You Like to Play Rock, Paper, Scissors? Y or N?: ')\n",
        "\n"
      ],
      "metadata": {
        "colab": {
          "base_uri": "https://localhost:8080/"
        },
        "id": "nH3POf6ZynRX",
        "outputId": "f18976f5-3148-4cdf-9b78-70ffbf6e6849"
      },
      "execution_count": null,
      "outputs": [
        {
          "name": "stdout",
          "output_type": "stream",
          "text": [
            "Would You Like to Play Rock, Paper, Scissors? Y or N?: Y\n",
            "Player 1 - Enter Rock, Paper, or Scissors : rock\n",
            "Player 2 - Enter Rock, Paper, or Scissors : paper\n",
            "Player 2 Wins\n",
            "Would You Like to Play Rock, Paper, Scissors? Y or N?: N\n"
          ]
        }
      ]
    },
    {
      "cell_type": "markdown",
      "source": [
        "Parking Garage\n",
        "Parking garage charges $5 plus $2.50 for each hour parked. The minimum fee is $10 and max is $20.\n",
        "Generate table with hours parked and corresponding fee, from 1 to 8 hours."
      ],
      "metadata": {
        "id": "p3OgykAK9IkP"
      }
    },
    {
      "cell_type": "code",
      "source": [
        "flat_rate = 5\n",
        "hourly_rate = 2.5\n",
        "\n",
        "for hour in range(1,9):\n",
        "  charge = flat_rate + hour * hourly_rate\n",
        "  if charge > 10 and charge < 20:\n",
        "    print(hour, charge)\n",
        "  elif charge <= 10:\n",
        "    print(hour, 10)\n",
        "  elif charge >= 20:\n",
        "    print(hour, 20)"
      ],
      "metadata": {
        "id": "3gIbl1dL0vdl",
        "colab": {
          "base_uri": "https://localhost:8080/"
        },
        "outputId": "549be04d-33d9-47a6-b0c9-051c6f91f0ca"
      },
      "execution_count": null,
      "outputs": [
        {
          "output_type": "stream",
          "name": "stdout",
          "text": [
            "1 10\n",
            "2 10\n",
            "3 12.5\n",
            "4 15.0\n",
            "5 17.5\n",
            "6 20\n",
            "7 20\n",
            "8 20\n"
          ]
        }
      ]
    },
    {
      "cell_type": "markdown",
      "source": [
        "Movie theater\n",
        "ticket is $10\n",
        "fixed cost $200\n",
        "20 people forecasted\n"
      ],
      "metadata": {
        "id": "fQfIk1fyDOE5"
      }
    },
    {
      "cell_type": "code",
      "source": [
        "ticket_cost = 10\n",
        "fixed_cost = 200\n",
        "forecasted = 20\n",
        "\n",
        "print('Ad$', 'Profit')\n",
        "for ads in range(0, 201, 25):\n",
        "  extra_attendes = 2 * round((ads)**0.5)\n",
        "  profit = ((forecasted + extra_attendes) * ticket_cost) - ads - fixed_cost\n",
        "  print(ads, profit)"
      ],
      "metadata": {
        "colab": {
          "base_uri": "https://localhost:8080/"
        },
        "id": "m8DdX_qPBHdD",
        "outputId": "a9475444-cf67-4c1b-f519-c7b0673b4182"
      },
      "execution_count": null,
      "outputs": [
        {
          "output_type": "stream",
          "name": "stdout",
          "text": [
            "Ad$ Profit\n",
            "0 0\n",
            "25 75\n",
            "50 90\n",
            "75 105\n",
            "100 100\n",
            "125 95\n",
            "150 90\n",
            "175 85\n",
            "200 80\n"
          ]
        }
      ]
    },
    {
      "cell_type": "markdown",
      "source": [
        "Parking garage part 2\n",
        "Prompt for number of hours parked\n",
        "calculates and displays parking fee charged\n",
        "Charges $5 plus $2.50 for each hour"
      ],
      "metadata": {
        "id": "T1_84f3P9kqF"
      }
    },
    {
      "cell_type": "code",
      "source": [
        "def calcfee(hours):\n",
        "  flat_rate = 5\n",
        "  hourly_rate = 2.5\n",
        "  charge = flat_rate + hours * hourly_rate\n",
        "  return charge\n",
        "\n",
        "hours = int(input('Enter Number of Hours Parked: '))\n",
        "charge = calcfee(hours)\n",
        "print(\"Parking Fee: \", charge)\n"
      ],
      "metadata": {
        "colab": {
          "base_uri": "https://localhost:8080/"
        },
        "id": "WYG4MBt79j4o",
        "outputId": "b5cefff5-1f68-45d9-a721-3346434d5f53"
      },
      "execution_count": null,
      "outputs": [
        {
          "output_type": "stream",
          "name": "stdout",
          "text": [
            "Enter Number of Hours Parked: 4\n",
            "Parking Fee:  15.0\n"
          ]
        }
      ]
    },
    {
      "cell_type": "code",
      "source": [
        "def calcfee(hours):\n",
        "  print(5 + hours * 2.5)\n",
        "\n",
        "hours = int(input('Enter Number of Hours Parked: '))\n",
        "calcfee(hours)"
      ],
      "metadata": {
        "colab": {
          "base_uri": "https://localhost:8080/"
        },
        "id": "vMz1Y4oeA4vP",
        "outputId": "41c701bf-2e74-4664-802b-a7eee169f4ef"
      },
      "execution_count": null,
      "outputs": [
        {
          "output_type": "stream",
          "name": "stdout",
          "text": [
            "Enter Number of Hours Parked: 2\n",
            "10.0\n"
          ]
        }
      ]
    },
    {
      "cell_type": "markdown",
      "source": [
        "Parking garage enhancements\n",
        "define and call function that displays result with signature displayfee(fee)\n",
        "\n",
        "refine the signature for calcfee() to include named aparameter, decimals, which control rounding on calculated fee.\n",
        "signature should be:\n",
        "  def calcfee(hours, decimal=2)"
      ],
      "metadata": {
        "id": "auhoL7hACCkS"
      }
    },
    {
      "cell_type": "code",
      "source": [
        "def calcfee(hours, decimal = 2):\n",
        "  flat_rate = 5\n",
        "  hourly_rate = 2.5\n",
        "  fee = flat_rate + hours * hourly_rate\n",
        "  fee = round(fee, decimal)\n",
        "  return fee\n",
        "\n",
        "def displayfee(fee):\n",
        "  print(\"Parking Fee: \", fee)\n",
        "\n",
        "hours = int(input('Enter Number of Hours Parked: '))\n",
        "fee = calcfee(hours)\n",
        "displayfee(fee)\n"
      ],
      "metadata": {
        "colab": {
          "base_uri": "https://localhost:8080/"
        },
        "id": "ABRzTRW5CewE",
        "outputId": "dd3afb98-57d9-4665-f42c-671afea1cbf0"
      },
      "execution_count": null,
      "outputs": [
        {
          "output_type": "stream",
          "name": "stdout",
          "text": [
            "Enter Number of Hours Parked: 2\n",
            "Parking Fee:  10.0\n"
          ]
        }
      ]
    },
    {
      "cell_type": "code",
      "source": [
        "months = {}\n",
        "names = [\"Jan\", \"Feb\", \"Mar\", \"Apr\", \"May\", \"Jun\", \"Jul\", \"Aug\", \"Sep\", \"Oct\", \"Nov\", \"Dec\"]\n",
        "numbers = [1, 2, 3, 4, 5, 6, 7, 8, 9, 10, 11, 12]\n",
        "\n",
        "for i in range(len(numbers)):\n",
        "  months[numbers[i]] = names[i]\n",
        "\n",
        "print(months)"
      ],
      "metadata": {
        "colab": {
          "base_uri": "https://localhost:8080/"
        },
        "id": "M_GTlF_qFF2F",
        "outputId": "be1e0623-97dc-4dda-9d03-cbc0ce7babb7"
      },
      "execution_count": 2,
      "outputs": [
        {
          "output_type": "stream",
          "name": "stdout",
          "text": [
            "{1: 'Jan', 2: 'Feb', 3: 'Mar', 4: 'Apr', 5: 'May', 6: 'Jun', 7: 'Jul', 8: 'Aug', 9: 'Sep', 10: 'Oct', 11: 'Nov', 12: 'Dec'}\n"
          ]
        }
      ]
    },
    {
      "cell_type": "markdown",
      "source": [
        "Recursion write hello backwards\n"
      ],
      "metadata": {
        "id": "j9Ub5yH0Hr0a"
      }
    },
    {
      "cell_type": "code",
      "source": [
        "def revs(s):\n",
        "    if len(s) == 1:\n",
        "        return s\n",
        "    else:\n",
        "        return s[-1] + revs(s[1:-1]) + s[0]\n",
        "\n",
        "revs('hello')\n",
        "\n",
        "\n",
        "\n",
        "\n"
      ],
      "metadata": {
        "colab": {
          "base_uri": "https://localhost:8080/",
          "height": 35
        },
        "id": "OI3J-aIqHtQW",
        "outputId": "d0e9cb90-3187-4781-b243-a9099a679d94"
      },
      "execution_count": null,
      "outputs": [
        {
          "output_type": "execute_result",
          "data": {
            "text/plain": [
              "'olleh'"
            ],
            "application/vnd.google.colaboratory.intrinsic+json": {
              "type": "string"
            }
          },
          "metadata": {},
          "execution_count": 38
        }
      ]
    },
    {
      "cell_type": "code",
      "source": [
        "class Student:\n",
        "  def __init__(self, name, number):\n",
        "    self.name = name\n",
        "    self.number = number\n",
        "\n",
        "  def __repr__(self):\n",
        "    return f'Name: {self.name}'\n"
      ],
      "metadata": {
        "id": "vn2O-IbMZIeN"
      },
      "execution_count": null,
      "outputs": []
    },
    {
      "cell_type": "code",
      "source": [
        "s1 = Student('James Bond', '007')\n",
        "s2 = Student('Clark Kent', '333')\n",
        "\n",
        "s1.name"
      ],
      "metadata": {
        "colab": {
          "base_uri": "https://localhost:8080/",
          "height": 35
        },
        "id": "2ZMJz4gQZfPt",
        "outputId": "00064cb7-d89e-4180-ca9e-13241efa73f3"
      },
      "execution_count": null,
      "outputs": [
        {
          "output_type": "execute_result",
          "data": {
            "text/plain": [
              "'James Bond'"
            ],
            "application/vnd.google.colaboratory.intrinsic+json": {
              "type": "string"
            }
          },
          "metadata": {},
          "execution_count": 8
        }
      ]
    },
    {
      "cell_type": "code",
      "source": [
        "class Student:\n",
        "  def __init__(self, name, number,):\n",
        "    self.__name = name\n",
        "    self.number = number\n",
        "    self.__courses = []\n",
        "\n",
        "  def enroll(self, course):\n",
        "    if course not in self.__courses:\n",
        "      self.__courses.append(course)\n",
        "    else:\n",
        "      print(f'Already enrolled in {course}')\n",
        "\n",
        "  def get_courses(self):\n",
        "    return self.__courses\n",
        "\n",
        "class GradStudent(Student):\n",
        "  def __init__(self, name, number, stipend):\n",
        "    super().__init__(name, number)\n",
        "    self.stipend = stipend\n",
        "  def set_stipend(self, newStipend):\n",
        "    self.stipend = newStipend\n",
        "  def get_stipend(self):\n",
        "    return self.stipend"
      ],
      "metadata": {
        "id": "73LRdNMmavMN"
      },
      "execution_count": 3,
      "outputs": []
    },
    {
      "cell_type": "code",
      "source": [
        "s1 = Student(\"James Bond\", \"007\")\n",
        "s2 = Student(\"Clark Kent\", \"333\")"
      ],
      "metadata": {
        "id": "UdBIS-yfa8LK"
      },
      "execution_count": 5,
      "outputs": []
    },
    {
      "cell_type": "code",
      "source": [
        "s1.enroll(\"Science\")"
      ],
      "metadata": {
        "id": "bVuABW1iFh0g"
      },
      "execution_count": 6,
      "outputs": []
    },
    {
      "cell_type": "code",
      "source": [
        "s1.get_courses()"
      ],
      "metadata": {
        "colab": {
          "base_uri": "https://localhost:8080/"
        },
        "id": "ICbqaYUfFiIE",
        "outputId": "117b7bec-86b3-49b1-a03e-368963caa91a"
      },
      "execution_count": 7,
      "outputs": [
        {
          "output_type": "execute_result",
          "data": {
            "text/plain": [
              "['Science']"
            ]
          },
          "metadata": {},
          "execution_count": 7
        }
      ]
    },
    {
      "cell_type": "code",
      "source": [
        "s2.enroll(\"History\")"
      ],
      "metadata": {
        "id": "zJPS6go3FiRG"
      },
      "execution_count": 8,
      "outputs": []
    },
    {
      "cell_type": "code",
      "source": [
        "s2.get_courses()"
      ],
      "metadata": {
        "colab": {
          "base_uri": "https://localhost:8080/"
        },
        "id": "HnPnWUQqFlQH",
        "outputId": "1df5d0fb-3a22-44a0-c022-ecea479dc475"
      },
      "execution_count": 9,
      "outputs": [
        {
          "output_type": "execute_result",
          "data": {
            "text/plain": [
              "['History']"
            ]
          },
          "metadata": {},
          "execution_count": 9
        }
      ]
    }
  ]
}